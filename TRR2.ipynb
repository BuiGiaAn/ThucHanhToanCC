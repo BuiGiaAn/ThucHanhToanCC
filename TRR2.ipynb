{
  "nbformat": 4,
  "nbformat_minor": 0,
  "metadata": {
    "colab": {
      "name": "Chuong2.ipynb",
      "provenance": [],
      "authorship_tag": "ABX9TyPdNDoJT/DtlOR5LUXD3cd9",
      "include_colab_link": true
    },
    "kernelspec": {
      "name": "python3",
      "display_name": "Python 3"
    },
    "language_info": {
      "name": "python"
    }
  },
  "cells": [
    {
      "cell_type": "markdown",
      "metadata": {
        "id": "view-in-github",
        "colab_type": "text"
      },
      "source": [
        "<a href=\"https://colab.research.google.com/github/BuiGiaAn/ThucHanhToanCC/blob/main/TRR2.ipynb\" target=\"_parent\"><img src=\"https://colab.research.google.com/assets/colab-badge.svg\" alt=\"Open In Colab\"/></a>"
      ]
    },
    {
      "cell_type": "code",
      "execution_count": null,
      "metadata": {
        "id": "0nZGOyR_-WS3"
      },
      "outputs": [],
      "source": [
        "def luythua(x, n):\n",
        " ketqua= 1\n",
        " for i in range(n):\n",
        "   ketqua = ketqua*x\n",
        "   return ketqua "
      ]
    },
    {
      "cell_type": "code",
      "source": [
        "luythua(2,1)"
      ],
      "metadata": {
        "id": "-zADy7t6-oE8",
        "outputId": "1463cba6-a7ba-46b1-d280-68d3d47c117c",
        "colab": {
          "base_uri": "https://localhost:8080/"
        }
      },
      "execution_count": null,
      "outputs": [
        {
          "output_type": "execute_result",
          "data": {
            "text/plain": [
              "2"
            ]
          },
          "metadata": {},
          "execution_count": 3
        }
      ]
    },
    {
      "cell_type": "code",
      "source": [
        " luythua(2,0) "
      ],
      "metadata": {
        "id": "Dc0GHHYq-pCz"
      },
      "execution_count": null,
      "outputs": []
    }
  ]
}