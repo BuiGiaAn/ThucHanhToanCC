{
  "nbformat": 4,
  "nbformat_minor": 0,
  "metadata": {
    "colab": {
      "name": "bai1.ipynb",
      "provenance": [],
      "toc_visible": true,
      "authorship_tag": "ABX9TyNBn+gFShffIQcgTZV4StIb",
      "include_colab_link": true
    },
    "kernelspec": {
      "name": "python3",
      "display_name": "Python 3"
    },
    "language_info": {
      "name": "python"
    }
  },
  "cells": [
    {
      "cell_type": "markdown",
      "metadata": {
        "id": "view-in-github",
        "colab_type": "text"
      },
      "source": [
        "<a href=\"https://colab.research.google.com/github/BuiGiaAn/ThucHanhToanCC/blob/main/bai1.ipynb\" target=\"_parent\"><img src=\"https://colab.research.google.com/assets/colab-badge.svg\" alt=\"Open In Colab\"/></a>"
      ]
    },
    {
      "cell_type": "markdown",
      "source": [
        ""
      ],
      "metadata": {
        "id": "7xs1ikbmSHWL"
      }
    },
    {
      "cell_type": "markdown",
      "source": [
        ""
      ],
      "metadata": {
        "id": "_1QI9GNltsq2"
      }
    },
    {
      "cell_type": "markdown",
      "source": [
        "# **Bài tập chương 1:**\n",
        "\n",
        "\n",
        "\n"
      ],
      "metadata": {
        "id": "1TI0oAvnVhsS"
      }
    },
    {
      "cell_type": "markdown",
      "source": [
        "# Bài tập 1: Sai số và số có ý nghĩa trong python:"
      ],
      "metadata": {
        "id": "ro5DzzfBtP1q"
      }
    },
    {
      "cell_type": "code",
      "source": [
        "3.1 == 3.0"
      ],
      "metadata": {
        "id": "LH6qHOpAuKtX"
      },
      "execution_count": null,
      "outputs": []
    },
    {
      "cell_type": "code",
      "source": [
        "3.01 == 3.0"
      ],
      "metadata": {
        "id": "79ZOt2_cuSsR"
      },
      "execution_count": null,
      "outputs": []
    },
    {
      "cell_type": "code",
      "source": [
        "3001 == 3.0"
      ],
      "metadata": {
        "id": "XkqMCT9quih2",
        "outputId": "74f0e766-3b49-49cc-a247-f14f0e5a324b",
        "colab": {
          "base_uri": "https://localhost:8080/"
        }
      },
      "execution_count": null,
      "outputs": [
        {
          "output_type": "execute_result",
          "data": {
            "text/plain": [
              "False"
            ]
          },
          "metadata": {},
          "execution_count": 8
        }
      ]
    },
    {
      "cell_type": "code",
      "source": [
        "a = 3.1\n",
        "b = 3.0\n",
        "i = -1\n",
        "while a != b:\n",
        "  print(a,'!=',b)\n",
        "  a_new = a - 0.9 * 10 ** i\n",
        "  if a != a_new:\n",
        "      a = a_new\n",
        "      i = i - 1\n",
        "  else:\n",
        "        print(i)\n",
        "        a=b\n",
        "        \n"
      ],
      "metadata": {
        "id": "jqtSpLt7usvW"
      },
      "execution_count": null,
      "outputs": []
    },
    {
      "cell_type": "markdown",
      "source": [
        "Giá trị i tìm được là -16"
      ],
      "metadata": {
        "id": "CSPLxNYu5JXO"
      }
    },
    {
      "cell_type": "markdown",
      "source": [
        "\n",
        "\n",
        "---\n",
        "\n"
      ],
      "metadata": {
        "id": "S97_UATi5clk"
      }
    },
    {
      "cell_type": "markdown",
      "source": [
        "# Bài tập 2: Thứ tự tính toán trong python\n"
      ],
      "metadata": {
        "id": "Taeu-buu0LfF"
      }
    },
    {
      "cell_type": "code",
      "source": [
        "a = True\n",
        "b = False\n",
        "\n",
        "if (a==b) and (1/0 > 0):\n",
        "  print('a==b')\n",
        "else:\n",
        "  print('a khac b')"
      ],
      "metadata": {
        "colab": {
          "base_uri": "https://localhost:8080/"
        },
        "id": "-LgoCLe66WMg",
        "outputId": "98e4d9de-f961-4432-a297-cbbd1c093549"
      },
      "execution_count": null,
      "outputs": [
        {
          "output_type": "stream",
          "name": "stdout",
          "text": [
            "a khac b\n"
          ]
        }
      ]
    },
    {
      "cell_type": "markdown",
      "source": [
        "Kết quả câu lệnh if: không chạy được vì máy không hiểu 1/0"
      ],
      "metadata": {
        "id": "bN0UcNoE7OOo"
      }
    },
    {
      "cell_type": "code",
      "source": [
        "a = True\n",
        "b = False\n",
        "if (a==b) and (1/0 > 0):\n",
        "  print('a==b')\n",
        "else:\n",
        "  print('a khac b')"
      ],
      "metadata": {
        "colab": {
          "base_uri": "https://localhost:8080/"
        },
        "id": "eInQ4Odk7YOb",
        "outputId": "9773a5ac-e792-42de-c356-9da5f0ec4ba9"
      },
      "execution_count": null,
      "outputs": [
        {
          "output_type": "stream",
          "name": "stdout",
          "text": [
            "a khac b\n"
          ]
        }
      ]
    },
    {
      "cell_type": "markdown",
      "source": [
        "Kết quả: a khac b\n",
        "\n",
        "\n",
        "Giải thích: đoạn lệnh này chạy được vì nó có nghĩa, không có 1/0 "
      ],
      "metadata": {
        "id": "SjfVY0Mj7dxX"
      }
    },
    {
      "cell_type": "markdown",
      "source": [
        "# **Bài Thực Hành**"
      ],
      "metadata": {
        "id": "XbQRHBdCtOf5"
      }
    },
    {
      "cell_type": "markdown",
      "source": [
        "**Thực hành 1:**"
      ],
      "metadata": {
        "id": "TF_q_1TOpMYt"
      }
    },
    {
      "cell_type": "code",
      "source": [
        " blocks = 10000\n",
        " dayS = [1/2**n for n in range(0, blocks)]\n",
        " tongS = sum(dayS)\n",
        " print (tongS) "
      ],
      "metadata": {
        "colab": {
          "base_uri": "https://localhost:8080/"
        },
        "id": "Aj2CwDWGpH3S",
        "outputId": "291c3a00-639c-46b1-9099-ece81e98efd3"
      },
      "execution_count": 2,
      "outputs": [
        {
          "output_type": "stream",
          "name": "stdout",
          "text": [
            "2.0\n"
          ]
        }
      ]
    },
    {
      "cell_type": "markdown",
      "source": [
        "**Thực hành 2:**"
      ],
      "metadata": {
        "id": "hOlGGQa9o7jh"
      }
    },
    {
      "cell_type": "code",
      "source": [
        "n = 1000 \n",
        "X = [2*k/n for k in range(0, n+1)] \n",
        "S = 0 \n",
        "for k in range(1, n+1): S = S + X[k]**2 * (X[k] - X[k-1])\n",
        "print (S) "
      ],
      "metadata": {
        "colab": {
          "base_uri": "https://localhost:8080/"
        },
        "id": "s7BxKSOdoslh",
        "outputId": "faa09304-c7d4-4bf5-fb20-9edcf6c5928c"
      },
      "execution_count": 1,
      "outputs": [
        {
          "output_type": "stream",
          "name": "stdout",
          "text": [
            "2.6706680000000027\n"
          ]
        }
      ]
    },
    {
      "cell_type": "markdown",
      "source": [
        "**Thực hành 5:**"
      ],
      "metadata": {
        "id": "yKf84ErFpSNN"
      }
    },
    {
      "cell_type": "code",
      "source": [
        "from sympy.solvers.solvers import denoms, Symbol\n",
        "x = Symbol('x')\n",
        "eq = (1/x)*1/(x-3)\n",
        "dd = denoms(eq)\n",
        "print (dd)"
      ],
      "metadata": {
        "colab": {
          "base_uri": "https://localhost:8080/"
        },
        "id": "5me2yj1TqiTu",
        "outputId": "915e69b8-8c09-496c-a21d-61db22cef510"
      },
      "execution_count": 18,
      "outputs": [
        {
          "output_type": "stream",
          "name": "stdout",
          "text": [
            "{x, x - 3}\n"
          ]
        }
      ]
    },
    {
      "cell_type": "markdown",
      "source": [
        "**Thực hành 7:**"
      ],
      "metadata": {
        "id": "PwxjJraKtsQR"
      }
    },
    {
      "cell_type": "code",
      "source": [
        "import math \n",
        "math.sin(math.pi/2)"
      ],
      "metadata": {
        "id": "dcHZs5eCtvmq",
        "outputId": "90afd366-07c9-4064-c6c7-de1dbd3563fa",
        "colab": {
          "base_uri": "https://localhost:8080/"
        }
      },
      "execution_count": 19,
      "outputs": [
        {
          "output_type": "execute_result",
          "data": {
            "text/plain": [
              "1.0"
            ]
          },
          "metadata": {},
          "execution_count": 19
        }
      ]
    },
    {
      "cell_type": "markdown",
      "source": [
        "**Thực hành** **10a:**"
      ],
      "metadata": {
        "id": "7EnfbA_gFuRq"
      }
    },
    {
      "cell_type": "code",
      "source": [
        "from sympy import Limit, Symbol\n",
        "x = Symbol('x')\n",
        "Limit (1/x,x,0, dir=\"-\").doit()"
      ],
      "metadata": {
        "colab": {
          "base_uri": "https://localhost:8080/",
          "height": 37
        },
        "id": "m5Ij5jx3F7WK",
        "outputId": "1b2b6aef-a984-4529-ebb8-24bd88b6757a"
      },
      "execution_count": null,
      "outputs": [
        {
          "output_type": "execute_result",
          "data": {
            "text/latex": "$\\displaystyle -\\infty$",
            "text/plain": [
              "-oo"
            ]
          },
          "metadata": {},
          "execution_count": 18
        }
      ]
    },
    {
      "cell_type": "markdown",
      "source": [
        "**Thực hành 10b:**"
      ],
      "metadata": {
        "id": "_deP1CojPSY9"
      }
    },
    {
      "cell_type": "code",
      "source": [
        "from sympy import Symbol, sin\n",
        "Limit(sin(x)/x, x, 0).doit() "
      ],
      "metadata": {
        "colab": {
          "base_uri": "https://localhost:8080/",
          "height": 37
        },
        "id": "Sr_yUAwtPY4-",
        "outputId": "25a833eb-fa50-4fa6-86a0-6871e374a5b8"
      },
      "execution_count": null,
      "outputs": [
        {
          "output_type": "execute_result",
          "data": {
            "text/latex": "$\\displaystyle 1$",
            "text/plain": [
              "1"
            ]
          },
          "metadata": {},
          "execution_count": 19
        }
      ]
    },
    {
      "cell_type": "markdown",
      "source": [
        "**Thực hành 11a:** "
      ],
      "metadata": {
        "id": "ZBY-iDKkPeKF"
      }
    },
    {
      "cell_type": "code",
      "source": [
        "from sympy import limit, sin, S \n",
        "limit(x*sin(1/x), x, S.Infinity) "
      ],
      "metadata": {
        "colab": {
          "base_uri": "https://localhost:8080/",
          "height": 37
        },
        "id": "S6SCk9PUPkXH",
        "outputId": "f1757ff2-5a62-403b-dfaf-1fe7e29632ac"
      },
      "execution_count": null,
      "outputs": [
        {
          "output_type": "execute_result",
          "data": {
            "text/latex": "$\\displaystyle 1$",
            "text/plain": [
              "1"
            ]
          },
          "metadata": {},
          "execution_count": 20
        }
      ]
    },
    {
      "cell_type": "markdown",
      "source": [
        "**Thực hành 12:**\n"
      ],
      "metadata": {
        "id": "pKh_in0sP-wl"
      }
    },
    {
      "cell_type": "code",
      "source": [
        "from sympy import Symbol, Limit, S, exp\n",
        "p = Symbol('p', positive=True)\n",
        "r = Symbol('r', positive=True)\n",
        "t = Symbol('t', positive=True)\n",
        "n = Symbol('n', positive=True)\n",
        "Limit(p*(1+r)/n**(n*t), n, S.Infinity).doit()\n",
        "p*exp(r*t)"
      ],
      "metadata": {
        "colab": {
          "base_uri": "https://localhost:8080/",
          "height": 38
        },
        "id": "ZEVD8DN6QIk6",
        "outputId": "17ffa742-94ce-4370-c95f-5db3ab8a3490"
      },
      "execution_count": null,
      "outputs": [
        {
          "output_type": "execute_result",
          "data": {
            "text/latex": "$\\displaystyle p e^{r t}$",
            "text/plain": [
              "p*exp(r*t)"
            ]
          },
          "metadata": {},
          "execution_count": 24
        }
      ]
    }
  ]
}