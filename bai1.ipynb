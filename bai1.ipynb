{
  "nbformat": 4,
  "nbformat_minor": 0,
  "metadata": {
    "colab": {
      "name": "bai1.ipynb",
      "provenance": [],
      "toc_visible": true,
      "authorship_tag": "ABX9TyMGWpf3r0yf+ho4tVAUsttS",
      "include_colab_link": true
    },
    "kernelspec": {
      "name": "python3",
      "display_name": "Python 3"
    },
    "language_info": {
      "name": "python"
    }
  },
  "cells": [
    {
      "cell_type": "markdown",
      "metadata": {
        "id": "view-in-github",
        "colab_type": "text"
      },
      "source": [
        "<a href=\"https://colab.research.google.com/github/BuiGiaAn/ThucHanhToanCC/blob/main/bai1.ipynb\" target=\"_parent\"><img src=\"https://colab.research.google.com/assets/colab-badge.svg\" alt=\"Open In Colab\"/></a>"
      ]
    },
    {
      "cell_type": "markdown",
      "source": [
        ""
      ],
      "metadata": {
        "id": "_1QI9GNltsq2"
      }
    },
    {
      "cell_type": "markdown",
      "source": [
        "**Bài tập chương 1:**\n",
        "\n",
        "\n",
        "\n"
      ],
      "metadata": {
        "id": "1TI0oAvnVhsS"
      }
    },
    {
      "cell_type": "markdown",
      "source": [
        "Bài tập 1: Sai số và số có ý nghĩa trong python:"
      ],
      "metadata": {
        "id": "ro5DzzfBtP1q"
      }
    },
    {
      "cell_type": "code",
      "source": [
        "3.1 == 3.0"
      ],
      "metadata": {
        "id": "LH6qHOpAuKtX"
      },
      "execution_count": null,
      "outputs": []
    },
    {
      "cell_type": "code",
      "source": [
        "3.01 == 3.0"
      ],
      "metadata": {
        "id": "79ZOt2_cuSsR"
      },
      "execution_count": null,
      "outputs": []
    },
    {
      "cell_type": "code",
      "source": [
        "3001 == 3.0"
      ],
      "metadata": {
        "id": "XkqMCT9quih2",
        "outputId": "74f0e766-3b49-49cc-a247-f14f0e5a324b",
        "colab": {
          "base_uri": "https://localhost:8080/"
        }
      },
      "execution_count": null,
      "outputs": [
        {
          "output_type": "execute_result",
          "data": {
            "text/plain": [
              "False"
            ]
          },
          "metadata": {},
          "execution_count": 8
        }
      ]
    },
    {
      "cell_type": "code",
      "source": [
        "a = 3.1\n",
        "b = 3.0\n",
        "i = -1\n",
        "while a != b:\n",
        "  print(a,'!=',b)\n",
        "  a_new = a - 0.9 * 10 ** i\n",
        "  if a != a_new:\n",
        "      a = a_new\n",
        "      i = i - 1\n",
        "  else:\n",
        "        print(i)\n",
        "        a=b\n",
        "        \n"
      ],
      "metadata": {
        "id": "jqtSpLt7usvW",
        "outputId": "17c27067-35a7-4306-f210-695d61ed3f5a",
        "colab": {
          "base_uri": "https://localhost:8080/"
        }
      },
      "execution_count": 2,
      "outputs": [
        {
          "output_type": "stream",
          "name": "stdout",
          "text": [
            "3.1 != 3.0\n",
            "3.0100000000000002 != 3.0\n",
            "3.0010000000000003 != 3.0\n",
            "3.0001 != 3.0\n",
            "3.00001 != 3.0\n",
            "3.000001 != 3.0\n",
            "3.0000001000000003 != 3.0\n",
            "3.0000000100000004 != 3.0\n",
            "3.0000000010000005 != 3.0\n",
            "3.0000000001000005 != 3.0\n",
            "3.0000000000100004 != 3.0\n",
            "3.0000000000010005 != 3.0\n",
            "3.0000000000001004 != 3.0\n",
            "3.00000000000001 != 3.0\n",
            "3.0000000000000013 != 3.0\n",
            "3.0000000000000004 != 3.0\n",
            "-16\n"
          ]
        }
      ]
    },
    {
      "cell_type": "markdown",
      "source": [
        "Giá trị i tìm được là -16"
      ],
      "metadata": {
        "id": "CSPLxNYu5JXO"
      }
    },
    {
      "cell_type": "markdown",
      "source": [
        "\n",
        "\n",
        "---\n",
        "\n"
      ],
      "metadata": {
        "id": "S97_UATi5clk"
      }
    },
    {
      "cell_type": "markdown",
      "source": [
        "Bài tập 2: Thứ tự tính toán trong python\n"
      ],
      "metadata": {
        "id": "Taeu-buu0LfF"
      }
    },
    {
      "cell_type": "code",
      "source": [
        "a = True\n",
        "b = False\n",
        "1/0\n",
        "if (a==b) and (1/0 > 0):\n",
        "  print('a==b')\n",
        "else:\n",
        "  print('a khac b')"
      ],
      "metadata": {
        "id": "-LgoCLe66WMg",
        "outputId": "56c44990-4891-4ca0-d37b-5cbb346320ef",
        "colab": {
          "base_uri": "https://localhost:8080/"
        }
      },
      "execution_count": 7,
      "outputs": [
        {
          "output_type": "stream",
          "name": "stdout",
          "text": [
            "a khac b\n"
          ]
        }
      ]
    },
    {
      "cell_type": "markdown",
      "source": [
        "Kết quả câu lệnh if: không chạy được vì máy không hiểu 1/0"
      ],
      "metadata": {
        "id": "bN0UcNoE7OOo"
      }
    },
    {
      "cell_type": "code",
      "source": [
        "a = True\n",
        "b = False\n",
        "if (a==b) and (1/0 > 0):\n",
        "  print('a==b')\n",
        "else:\n",
        "  print('a khac b')"
      ],
      "metadata": {
        "id": "eInQ4Odk7YOb",
        "outputId": "9773a5ac-e792-42de-c356-9da5f0ec4ba9",
        "colab": {
          "base_uri": "https://localhost:8080/"
        }
      },
      "execution_count": 8,
      "outputs": [
        {
          "output_type": "stream",
          "name": "stdout",
          "text": [
            "a khac b\n"
          ]
        }
      ]
    },
    {
      "cell_type": "markdown",
      "source": [
        "Kết quả: a khac b\n",
        "Giải thích: đoạn lệnh này chạy được vì nó có nghĩa, không có 1/0 "
      ],
      "metadata": {
        "id": "SjfVY0Mj7dxX"
      }
    },
    {
      "cell_type": "markdown",
      "source": [
        ""
      ],
      "metadata": {
        "id": "XbQRHBdCtOf5"
      }
    }
  ]
}