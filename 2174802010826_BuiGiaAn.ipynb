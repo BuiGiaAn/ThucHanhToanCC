{
  "nbformat": 4,
  "nbformat_minor": 0,
  "metadata": {
    "colab": {
      "name": "2174802010826_BuiGiaAn.ipynb",
      "provenance": [],
      "authorship_tag": "ABX9TyMdLbdj3lyCPODjpPwr62ub",
      "include_colab_link": true
    },
    "kernelspec": {
      "name": "python3",
      "display_name": "Python 3"
    },
    "language_info": {
      "name": "python"
    }
  },
  "cells": [
    {
      "cell_type": "markdown",
      "metadata": {
        "id": "view-in-github",
        "colab_type": "text"
      },
      "source": [
        "<a href=\"https://colab.research.google.com/github/BuiGiaAn/ThucHanhToanCC/blob/main/2174802010826_BuiGiaAn.ipynb\" target=\"_parent\"><img src=\"https://colab.research.google.com/assets/colab-badge.svg\" alt=\"Open In Colab\"/></a>"
      ]
    },
    {
      "cell_type": "markdown",
      "source": [
        "# **Tinh tich phan**"
      ],
      "metadata": {
        "id": "18b9i0nwqPbR"
      }
    },
    {
      "cell_type": "code",
      "source": [
        "from sympy import Integral, Symbol\n",
        "x = Symbol('x')\n",
        "k = (2*x-1)/(x+1)\n",
        "Integral(k*x,(x,0,1)).doit()\n",
        "\n",
        "\n"
      ],
      "metadata": {
        "colab": {
          "base_uri": "https://localhost:8080/",
          "height": 38
        },
        "id": "QOTIz2jHqSTH",
        "outputId": "562c5666-168c-40d4-b471-2c2f143366a3"
      },
      "execution_count": 10,
      "outputs": [
        {
          "output_type": "execute_result",
          "data": {
            "text/plain": [
              "-2 + 3*log(2)"
            ],
            "text/latex": "$\\displaystyle -2 + 3 \\log{\\left(2 \\right)}$"
          },
          "metadata": {},
          "execution_count": 10
        }
      ]
    },
    {
      "cell_type": "code",
      "source": [
        "from sympy import Integral, Symbol\n",
        "x = Symbol('x')\n",
        "k = (x**4+x**3+3*x**2+2*x-2)/(x**2+x)\n",
        "Integral(k*x, (x,2,1)).doit()\n"
      ],
      "metadata": {
        "colab": {
          "base_uri": "https://localhost:8080/",
          "height": 51
        },
        "id": "zqHZMCh7ra5v",
        "outputId": "f1aab441-1539-4a70-d189-25d282f101d6"
      },
      "execution_count": 14,
      "outputs": [
        {
          "output_type": "execute_result",
          "data": {
            "text/plain": [
              "-29/4 - log(2) + log(3)"
            ],
            "text/latex": "$\\displaystyle - \\frac{29}{4} - \\log{\\left(2 \\right)} + \\log{\\left(3 \\right)}$"
          },
          "metadata": {},
          "execution_count": 14
        }
      ]
    },
    {
      "cell_type": "markdown",
      "source": [
        "# **Tinh dao ham:**"
      ],
      "metadata": {
        "id": "4-fJMA4ppC20"
      }
    },
    {
      "cell_type": "markdown",
      "source": [
        "2a:"
      ],
      "metadata": {
        "id": "pCzaMWdKpGeT"
      }
    },
    {
      "cell_type": "code",
      "execution_count": 2,
      "metadata": {
        "colab": {
          "base_uri": "https://localhost:8080/",
          "height": 58
        },
        "id": "7dOP7phhoMWz",
        "outputId": "bab7fb38-c3c6-47c9-aa65-fc72eb86fc5f"
      },
      "outputs": [
        {
          "output_type": "execute_result",
          "data": {
            "text/plain": [
              "2/(x + 2) - (2*x - 1)/(x + 2)**2"
            ],
            "text/latex": "$\\displaystyle \\frac{2}{x + 2} - \\frac{2 x - 1}{\\left(x + 2\\right)^{2}}$"
          },
          "metadata": {},
          "execution_count": 2
        }
      ],
      "source": [
        "from sympy import Symbol, solve, Derivative\n",
        "x = Symbol('x')  \n",
        "f = (2*x-1)/(x+2)\n",
        "d1 = Derivative(f, x).doit()\n",
        "d1\n"
      ]
    },
    {
      "cell_type": "code",
      "source": [
        "from sympy import Symbol, solve, Derivative\n",
        "x = Symbol('x')  \n",
        "f = (x**2+3*x-1)/(x+1)\n",
        "d1 = Derivative(f, x).doit()\n",
        "d1"
      ],
      "metadata": {
        "colab": {
          "base_uri": "https://localhost:8080/",
          "height": 61
        },
        "id": "tiK7gai1rseX",
        "outputId": "f01daa47-dab9-4ed6-f73d-aeeaabcf918c"
      },
      "execution_count": 7,
      "outputs": [
        {
          "output_type": "execute_result",
          "data": {
            "text/plain": [
              "(2*x + 3)/(x + 1) - (x**2 + 3*x - 1)/(x + 1)**2"
            ],
            "text/latex": "$\\displaystyle \\frac{2 x + 3}{x + 1} - \\frac{x^{2} + 3 x - 1}{\\left(x + 1\\right)^{2}}$"
          },
          "metadata": {},
          "execution_count": 7
        }
      ]
    },
    {
      "cell_type": "markdown",
      "source": [
        ""
      ],
      "metadata": {
        "id": "lTUd0jzfpe49"
      }
    },
    {
      "cell_type": "markdown",
      "source": [
        ""
      ],
      "metadata": {
        "id": "3SC7fU7VpVQD"
      }
    }
  ]
}