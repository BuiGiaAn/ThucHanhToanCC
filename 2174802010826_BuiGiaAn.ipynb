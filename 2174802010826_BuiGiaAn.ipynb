{
  "nbformat": 4,
  "nbformat_minor": 0,
  "metadata": {
    "colab": {
      "name": "2174802010826_BuiGiaAn.ipynb",
      "provenance": [],
      "authorship_tag": "ABX9TyOyJ/w8PwmHg17urHEb0Z27",
      "include_colab_link": true
    },
    "kernelspec": {
      "name": "python3",
      "display_name": "Python 3"
    },
    "language_info": {
      "name": "python"
    }
  },
  "cells": [
    {
      "cell_type": "markdown",
      "metadata": {
        "id": "view-in-github",
        "colab_type": "text"
      },
      "source": [
        "<a href=\"https://colab.research.google.com/github/BuiGiaAn/ThucHanhToanCC/blob/main/2174802010826_BuiGiaAn.ipynb\" target=\"_parent\"><img src=\"https://colab.research.google.com/assets/colab-badge.svg\" alt=\"Open In Colab\"/></a>"
      ]
    },
    {
      "cell_type": "markdown",
      "source": [
        "# **Tinh dao ham**"
      ],
      "metadata": {
        "id": "18b9i0nwqPbR"
      }
    },
    {
      "cell_type": "code",
      "source": [
        "from sympy import Integral, Symbol\n",
        "x = Symbol('x')\n",
        "k = (2*x-1)/(x+1)\n",
        "Integral(k*x, x).doit()\n",
        "\n"
      ],
      "metadata": {
        "colab": {
          "base_uri": "https://localhost:8080/",
          "height": 39
        },
        "id": "QOTIz2jHqSTH",
        "outputId": "83f854c1-8ab2-4524-c3bd-4db046bf880e"
      },
      "execution_count": 6,
      "outputs": [
        {
          "output_type": "execute_result",
          "data": {
            "text/plain": [
              "x**2 - 3*x + 3*log(x + 1)"
            ],
            "text/latex": "$\\displaystyle x^{2} - 3 x + 3 \\log{\\left(x + 1 \\right)}$"
          },
          "metadata": {},
          "execution_count": 6
        }
      ]
    },
    {
      "cell_type": "code",
      "source": [
        "from sympy import Integral, Symbol\n",
        "x = Symbol('x')\n",
        "k = (2*x+1)/(x*(x+1))\n",
        "Integral(k*x, x).doit()\n"
      ],
      "metadata": {
        "colab": {
          "base_uri": "https://localhost:8080/",
          "height": 39
        },
        "id": "zqHZMCh7ra5v",
        "outputId": "b5aa9927-3220-4510-a3e7-6e8f4c2f35ae"
      },
      "execution_count": 5,
      "outputs": [
        {
          "output_type": "execute_result",
          "data": {
            "text/plain": [
              "2*x - log(x + 1)"
            ],
            "text/latex": "$\\displaystyle 2 x - \\log{\\left(x + 1 \\right)}$"
          },
          "metadata": {},
          "execution_count": 5
        }
      ]
    },
    {
      "cell_type": "markdown",
      "source": [
        "# **Tinh dao ham:**"
      ],
      "metadata": {
        "id": "4-fJMA4ppC20"
      }
    },
    {
      "cell_type": "markdown",
      "source": [
        "2a:"
      ],
      "metadata": {
        "id": "pCzaMWdKpGeT"
      }
    },
    {
      "cell_type": "code",
      "execution_count": 2,
      "metadata": {
        "colab": {
          "base_uri": "https://localhost:8080/",
          "height": 58
        },
        "id": "7dOP7phhoMWz",
        "outputId": "bab7fb38-c3c6-47c9-aa65-fc72eb86fc5f"
      },
      "outputs": [
        {
          "output_type": "execute_result",
          "data": {
            "text/plain": [
              "2/(x + 2) - (2*x - 1)/(x + 2)**2"
            ],
            "text/latex": "$\\displaystyle \\frac{2}{x + 2} - \\frac{2 x - 1}{\\left(x + 2\\right)^{2}}$"
          },
          "metadata": {},
          "execution_count": 2
        }
      ],
      "source": [
        "from sympy import Symbol, solve, Derivative\n",
        "x = Symbol('x')  \n",
        "f = (2*x-1)/(x+2)\n",
        "d1 = Derivative(f, x).doit()\n",
        "d1\n"
      ]
    },
    {
      "cell_type": "code",
      "source": [
        "from sympy import Symbol, solve, Derivative\n",
        "x = Symbol('x')  \n",
        "f = (x**2+3*x-1)/(x+1)\n",
        "d1 = Derivative(f, x).doit()\n",
        "d1"
      ],
      "metadata": {
        "colab": {
          "base_uri": "https://localhost:8080/",
          "height": 61
        },
        "id": "tiK7gai1rseX",
        "outputId": "f01daa47-dab9-4ed6-f73d-aeeaabcf918c"
      },
      "execution_count": 7,
      "outputs": [
        {
          "output_type": "execute_result",
          "data": {
            "text/plain": [
              "(2*x + 3)/(x + 1) - (x**2 + 3*x - 1)/(x + 1)**2"
            ],
            "text/latex": "$\\displaystyle \\frac{2 x + 3}{x + 1} - \\frac{x^{2} + 3 x - 1}{\\left(x + 1\\right)^{2}}$"
          },
          "metadata": {},
          "execution_count": 7
        }
      ]
    },
    {
      "cell_type": "markdown",
      "source": [
        ""
      ],
      "metadata": {
        "id": "lTUd0jzfpe49"
      }
    },
    {
      "cell_type": "markdown",
      "source": [
        ""
      ],
      "metadata": {
        "id": "3SC7fU7VpVQD"
      }
    }
  ]
}